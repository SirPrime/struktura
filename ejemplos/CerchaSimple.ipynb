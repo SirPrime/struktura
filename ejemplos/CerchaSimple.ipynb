{
 "cells": [
  {
   "cell_type": "markdown",
   "metadata": {},
   "source": [
    "# Cálculo de una cercha simple"
   ]
  },
  {
   "cell_type": "markdown",
   "metadata": {},
   "source": [
    "Resolver la estructura de la figura:\n",
    "\n",
    "<img src='img/ret4b(a).png' width=500>"
   ]
  },
  {
   "cell_type": "markdown",
   "metadata": {},
   "source": [
    "## 1. Modelo analítico"
   ]
  },
  {
   "cell_type": "markdown",
   "metadata": {},
   "source": [
    "Para la carga de datos es suficiente con definir el sistema de coordenadas global y enumerar nudos y barras.\n",
    "\n",
    "Se recomienda la siguiente convención (opcional):\n",
    "- Enumerar nudos de abajo hacia arriba y de izquierda a derecha;\n",
    "- Enumerar barras de abajo hacia arriba y de izquierda a derecha, primero horizontales, luego verticales y por último el resto.\n",
    "\n",
    "<img src='img/ret4b(a)-nyb.png' width=500>"
   ]
  },
  {
   "cell_type": "markdown",
   "metadata": {},
   "source": [
    "Una vez definida la estructura con sus restricciones de apoyo, el sistema automáticamente considerará la siguiente enumeración de grados de libertad y orientación de las barras:\n",
    "\n",
    "<img src='img/ret4b(a)-enum.png' width=500>"
   ]
  },
  {
   "cell_type": "markdown",
   "metadata": {},
   "source": [
    "## 2. Librerías"
   ]
  },
  {
   "cell_type": "code",
   "execution_count": 1,
   "metadata": {},
   "outputs": [],
   "source": [
    "# Ubicación de la carpeta *struktura*\n",
    "import sys\n",
    "sys.path.append(r\"C:\\Users\\fgrv\\OneDrive\\Documentos\\PythonProjects\\struktura\")\n",
    "\n",
    "import analisa.edeb as edb"
   ]
  },
  {
   "cell_type": "markdown",
   "metadata": {},
   "source": [
    "## 3. Datos\n",
    "\n",
    "Las unidades deben ser coherentes, en este ejemplo usamos Fuerzas en $kN$ y distancias en $m$."
   ]
  },
  {
   "cell_type": "markdown",
   "metadata": {},
   "source": [
    "### 3.1 Nudos"
   ]
  },
  {
   "cell_type": "code",
   "execution_count": 2,
   "metadata": {},
   "outputs": [],
   "source": [
    "# Coordenadas de los nudos, en el orden de enumeración\n",
    "coords = [(0, 0), (3, 0), (7, 0), (3, 4)]\n",
    "\n",
    "# Restricciones {#nudo: (restX, restY), ...}\n",
    "rest = {0: (1, 1), 1: (1, 1), 2: (0, 1)}\n",
    "\n",
    "# Cargas nodales {#nudo: (Px, Py), ...}\n",
    "cargas = {3: (-8, -10)}"
   ]
  },
  {
   "cell_type": "markdown",
   "metadata": {},
   "source": [
    "### 3.2 Barras"
   ]
  },
  {
   "cell_type": "code",
   "execution_count": 3,
   "metadata": {},
   "outputs": [],
   "source": [
    "# Áreas y módulos de elasticidad\n",
    "A1 = 50*(1e-2)**2  # 50 cm2 a m2\n",
    "A2 = 35*(1e-2)**2 # 35 cm2 a m2\n",
    "E = 200e6  # kN/m2 = kPa"
   ]
  },
  {
   "cell_type": "code",
   "execution_count": 4,
   "metadata": {},
   "outputs": [],
   "source": [
    "# Instanciones de la clase Seccion\n",
    "s1 = edb.Seccion(area=A1)\n",
    "s2 = edb.Seccion(area=A2)\n",
    "\n",
    "# Si hay más de una sección, se debe hacer una lista\n",
    "s = [s1, s2]  # lista de secciones\n",
    "\n",
    "# Instanciación de la clase Material\n",
    "# Si hay más de un tipo de material, se debe hacer una lista.\n",
    "# En este caso, hay un solo material\n",
    "m1 = edb.Material(elast_long=E)"
   ]
  },
  {
   "cell_type": "markdown",
   "metadata": {},
   "source": [
    "La **tabla de conectividad** debe tener los siguientes datos (por cada barra):\n",
    "1. Número del nudo inicial.\n",
    "    - Se recomienda que el número de nudo inicial sea el de menor valor numérico, por ejemplo, si los extremos de la barra en cuestión corresponden a los nudos 3 y 7, el nudo inicial debería ser 3 y el final 7.\n",
    "2. Número del nudo final\n",
    "3. Número de material (de la lista de materiales), el conteo inicia en 0, el primero de la lista es 0, el segundo 1, etc. Si hay un solo tipo de material, se coloca 0.\n",
    "4. Número de sección, de la lista de secciones, el conteo inicia en 0, el primero es 0, el segundo 1, etc. Si hay un solo tipo de sección, se coloca 0.\n",
    "\n",
    "El diccionario de la tabla de conectividad debe tener la siguiente estructura:\n",
    "\n",
    " - La tabla de conectividad delimitada entre llaves, los datos de cada barra delimitados entre paréntesis. Los datos y los paréntesis deben estar separados con comas.\n",
    "\n",
    "- Ejemplo: \n",
    "    - tabla_de_conectividad = {(#nudo_inicial, #nudo_final, #material, #sección), ...}\n",
    "\n",
    "en donde '#' se lee 'número de', es decir se tienen cuatro valores para cada barra.\n",
    "\n",
    "Si el material y la sección son constantes para toda la estructura, pueden obviarse y escribir la tabla de conectividad con solo los valores numéricos del nudo inicial y final, es decir:\n",
    "- tabla_de_conecividad_con_unico_material_y_seccion = {(#nudo_inical, #nudo_final), ...}\n"
   ]
  },
  {
   "cell_type": "code",
   "execution_count": 5,
   "metadata": {},
   "outputs": [],
   "source": [
    "# Tabla de conectividad de las barras en el orden de enumeración\n",
    "# Formato: [(#nudo_inicial, #nudo_final, num_de_material, num_de_seccion), ...]\n",
    "conect = [(1, 2, 0, 0), (0, 3, 0, 1), (1, 3, 0, 1), (2, 3, 0, 0)]"
   ]
  },
  {
   "cell_type": "markdown",
   "metadata": {},
   "source": [
    "## 4. Procesamiento"
   ]
  },
  {
   "cell_type": "markdown",
   "metadata": {},
   "source": [
    "### 4.1 Preliminar"
   ]
  },
  {
   "cell_type": "code",
   "execution_count": 6,
   "metadata": {},
   "outputs": [],
   "source": [
    "# Instanciación de la clase Reticulado\n",
    "st = edb.Reticulado(datos_nudos=coords, restricciones=rest, datos_barras=conect,\n",
    "                   materiales=m1, secciones=s, cargas_nodales=cargas)"
   ]
  },
  {
   "cell_type": "markdown",
   "metadata": {},
   "source": [
    "### 4.2 Dibujo de la estructura para revisión\n",
    "\n",
    "Con sus respectivas asignaciones numéricas.\n",
    "\n",
    "Respecto a los apoyos:\n",
    "- Triángulos en negro para los apoyos con restricción completa\n",
    "- Triángulos en colores para apoyos con restricción parcial;\n",
    "- Círculos para nudos sin restricciones."
   ]
  },
  {
   "cell_type": "code",
   "execution_count": 7,
   "metadata": {},
   "outputs": [
    {
     "data": {
      "image/png": "[encoded data removed]",
      "text/plain": [
       "<Figure size 640x480 with 1 Axes>"
      ]
     },
     "metadata": {},
     "output_type": "display_data"
    }
   ],
   "source": [
    "st.dibujar_nudos(num=True)\n",
    "st.dibujar_barras(num=True)"
   ]
  },
  {
   "cell_type": "markdown",
   "metadata": {},
   "source": [
    "### 4.3 Realización de los cálculos"
   ]
  },
  {
   "cell_type": "code",
   "execution_count": 8,
   "metadata": {},
   "outputs": [],
   "source": [
    "# Cálculos\n",
    "st.procesamiento()"
   ]
  },
  {
   "cell_type": "markdown",
   "metadata": {},
   "source": [
    "## 5. Resultados"
   ]
  },
  {
   "cell_type": "markdown",
   "metadata": {},
   "source": [
    "### 5.1 Valores de barras individuales que podrían interesar"
   ]
  },
  {
   "cell_type": "code",
   "execution_count": 9,
   "metadata": {},
   "outputs": [
    {
     "data": {
      "text/plain": [
       "-2605.0073703443227"
      ]
     },
     "execution_count": 9,
     "metadata": {},
     "output_type": "execute_result"
    }
   ],
   "source": [
    "# Tensión en la barra 2\n",
    "b2 = st.barras()[1]\n",
    "b2.tension()"
   ]
  },
  {
   "cell_type": "code",
   "execution_count": 10,
   "metadata": {},
   "outputs": [
    {
     "data": {
      "text/plain": [
       "-2.991693648750183e-05"
      ]
     },
     "execution_count": 10,
     "metadata": {},
     "output_type": "execute_result"
    }
   ],
   "source": [
    "# Elongación de la barra 3\n",
    "b3 = st.barras()[2]\n",
    "b3.elongacion()"
   ]
  },
  {
   "cell_type": "code",
   "execution_count": 11,
   "metadata": {},
   "outputs": [
    {
     "data": {
      "text/plain": [
       "array([[ 140000.,       0., -140000.,       0.],\n",
       "       [      0.,       0.,       0.,       0.],\n",
       "       [-140000.,      -0.,  140000.,      -0.],\n",
       "       [      0.,       0.,       0.,       0.]])"
      ]
     },
     "execution_count": 11,
     "metadata": {},
     "output_type": "execute_result"
    }
   ],
   "source": [
    "# Matriz de rigidez local de la barra 2\n",
    "b2.rigidez_local"
   ]
  },
  {
   "cell_type": "code",
   "execution_count": 12,
   "metadata": {},
   "outputs": [
    {
     "data": {
      "text/plain": [
       "array([[-0.70710678,  0.70710678,  0.        ,  0.        ],\n",
       "       [-0.70710678, -0.70710678,  0.        ,  0.        ],\n",
       "       [ 0.        ,  0.        , -0.70710678,  0.70710678],\n",
       "       [ 0.        ,  0.        , -0.70710678, -0.70710678]])"
      ]
     },
     "execution_count": 12,
     "metadata": {},
     "output_type": "execute_result"
    }
   ],
   "source": [
    "# Matriz de transformación de coordenadas de la barra 4\n",
    "b4 = st.barras()[3]\n",
    "b4.transf_coord()"
   ]
  },
  {
   "cell_type": "code",
   "execution_count": 13,
   "metadata": {},
   "outputs": [
    {
     "data": {
      "text/plain": [
       "array([[ 88388.34764832, -88388.34764832, -88388.34764832,\n",
       "         88388.34764832],\n",
       "       [-88388.34764832,  88388.34764832,  88388.34764832,\n",
       "        -88388.34764832],\n",
       "       [-88388.34764832,  88388.34764832,  88388.34764832,\n",
       "        -88388.34764832],\n",
       "       [ 88388.34764832, -88388.34764832, -88388.34764832,\n",
       "         88388.34764832]])"
      ]
     },
     "execution_count": 13,
     "metadata": {},
     "output_type": "execute_result"
    }
   ],
   "source": [
    "# Matriz de rigidez global de la barra 4\n",
    "b4.rigidez_global"
   ]
  },
  {
   "cell_type": "code",
   "execution_count": 14,
   "metadata": {},
   "outputs": [
    {
     "data": {
      "text/plain": [
       "array([ 0.00000000e+00,  0.00000000e+00, -6.86527251e-05, -2.99169365e-05])"
      ]
     },
     "execution_count": 14,
     "metadata": {},
     "output_type": "execute_result"
    }
   ],
   "source": [
    "# Vector de desplazamientos en coordenadas globales de la barra 2\n",
    "b2.desplaz_global()"
   ]
  },
  {
   "cell_type": "code",
   "execution_count": 15,
   "metadata": {},
   "outputs": [
    {
     "data": {
      "text/plain": [
       "7850.0"
      ]
     },
     "execution_count": 15,
     "metadata": {},
     "output_type": "execute_result"
    }
   ],
   "source": [
    "# Densidad de la barra 2\n",
    "b2.material.densidad"
   ]
  },
  {
   "cell_type": "markdown",
   "metadata": {},
   "source": [
    "### 5.2 Valores nodales que podrían interesar"
   ]
  },
  {
   "cell_type": "code",
   "execution_count": 16,
   "metadata": {},
   "outputs": [
    {
     "data": {
      "text/plain": [
       "(5, 6)"
      ]
     },
     "execution_count": 16,
     "metadata": {},
     "output_type": "execute_result"
    }
   ],
   "source": [
    "# Enumeración de grados de libertad del nudo 2\n",
    "n2 = st.nudos()[1]\n",
    "n2.gdl()"
   ]
  },
  {
   "cell_type": "code",
   "execution_count": 17,
   "metadata": {},
   "outputs": [
    {
     "data": {
      "text/plain": [
       "array([ -8, -10])"
      ]
     },
     "execution_count": 17,
     "metadata": {},
     "output_type": "execute_result"
    }
   ],
   "source": [
    "# Cargas externas en el nudo 4\n",
    "n4 = st.nudos()[3]\n",
    "n4.cargas()"
   ]
  },
  {
   "cell_type": "code",
   "execution_count": 18,
   "metadata": {},
   "outputs": [
    {
     "data": {
      "text/plain": [
       "array([-1.01179381e-05,  0.00000000e+00])"
      ]
     },
     "execution_count": 18,
     "metadata": {},
     "output_type": "execute_result"
    }
   ],
   "source": [
    "# Desplazamiento del nudo 3\n",
    "n3 = st.nudos()[2]\n",
    "n3.desplaz()"
   ]
  },
  {
   "cell_type": "code",
   "execution_count": 19,
   "metadata": {},
   "outputs": [
    {
     "data": {
      "text/plain": [
       "(7, 0)"
      ]
     },
     "execution_count": 19,
     "metadata": {},
     "output_type": "execute_result"
    }
   ],
   "source": [
    "# Coordenadas iniciales del nudo 3\n",
    "n3.coord"
   ]
  },
  {
   "cell_type": "code",
   "execution_count": 20,
   "metadata": {},
   "outputs": [
    {
     "data": {
      "text/plain": [
       "array([2.99993135, 3.99997008])"
      ]
     },
     "execution_count": 20,
     "metadata": {},
     "output_type": "execute_result"
    }
   ],
   "source": [
    "# Coordenadas finales del nudo 4\n",
    "n4.posicion()"
   ]
  },
  {
   "cell_type": "markdown",
   "metadata": {},
   "source": [
    "### 5.3 Resultados de la estructura global"
   ]
  },
  {
   "cell_type": "code",
   "execution_count": 21,
   "metadata": {},
   "outputs": [
    {
     "data": {
      "text/plain": [
       "array([-1.01179381e-05, -6.86527251e-05, -2.99169365e-05])"
      ]
     },
     "execution_count": 21,
     "metadata": {},
     "output_type": "execute_result"
    }
   ],
   "source": [
    "# Desplazamientos en los grados de libertad\n",
    "st.desplaz_gdl()"
   ]
  },
  {
   "cell_type": "code",
   "execution_count": 22,
   "metadata": {},
   "outputs": [
    {
     "data": {
      "text/plain": [
       "array([ -505.89690446, -2605.00737034, -1495.84682438,   715.44626344])"
      ]
     },
     "execution_count": 22,
     "metadata": {},
     "output_type": "execute_result"
    }
   ],
   "source": [
    "# Tensiones de las barras en orden de enumeración\n",
    "st.tensiones()"
   ]
  },
  {
   "cell_type": "code",
   "execution_count": 23,
   "metadata": {},
   "outputs": [
    {
     "data": {
      "text/plain": [
       "array([-1.01179381e-05, -6.51251843e-05, -2.99169365e-05,  2.02358762e-05])"
      ]
     },
     "execution_count": 23,
     "metadata": {},
     "output_type": "execute_result"
    }
   ],
   "source": [
    "# Deformaciones axiales de las barras en orden de enumeración\n",
    "st.elongaciones()"
   ]
  },
  {
   "cell_type": "code",
   "execution_count": 24,
   "metadata": {},
   "outputs": [
    {
     "data": {
      "text/plain": [
       "array([ 5.47051548,  7.29402064,  2.52948452,  5.23546389, -2.52948452])"
      ]
     },
     "execution_count": 24,
     "metadata": {},
     "output_type": "execute_result"
    }
   ],
   "source": [
    "# Reacciones en los grados de restricción\n",
    "st.reacciones()"
   ]
  },
  {
   "cell_type": "markdown",
   "metadata": {},
   "source": [
    "### 5.4 Gráfico de la deformada"
   ]
  },
  {
   "cell_type": "code",
   "execution_count": 25,
   "metadata": {},
   "outputs": [
    {
     "data": {
      "image/png": "[encoded data removed]",
      "text/plain": [
       "<Figure size 640x480 with 1 Axes>"
      ]
     },
     "metadata": {},
     "output_type": "display_data"
    }
   ],
   "source": [
    "# Estructura sin aplicación de las cargas. Enumera las barras.\n",
    "st.dibujar_barras(num=True)\n",
    "\n",
    "# Nudos enumerados y en sus posiciones iniciales\n",
    "# Triángulos para los apoyos\n",
    "st.dibujar_nudos(num=True)\n",
    "\n",
    "# Deformada amplificada. Azul: tracción; Rojo: compresión\n",
    "st.dibujar_deform(amp=3000, colorear=True, espesor_area=20)"
   ]
  },
  {
   "cell_type": "code",
   "execution_count": null,
   "metadata": {},
   "outputs": [],
   "source": []
  }
 ],
 "metadata": {
  "kernelspec": {
   "display_name": "Python 3 (ipykernel)",
   "language": "python",
   "name": "python3"
  },
  "language_info": {
   "codemirror_mode": {
    "name": "ipython",
    "version": 3
   },
   "file_extension": ".py",
   "mimetype": "text/x-python",
   "name": "python",
   "nbconvert_exporter": "python",
   "pygments_lexer": "ipython3",
   "version": "3.11.9"
  }
 },
 "nbformat": 4,
 "nbformat_minor": 2
}
