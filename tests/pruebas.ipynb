{
 "cells": [
  {
   "cell_type": "code",
   "execution_count": 1,
   "outputs": [],
   "source": [
    "import numpy as np\n",
    "\n",
    "import analisa.edeb as est"
   ],
   "metadata": {
    "collapsed": false,
    "pycharm": {
     "name": "#%%\n"
    }
   }
  },
  {
   "cell_type": "code",
   "execution_count": 20,
   "outputs": [],
   "source": [
    "# Datos\n",
    "nudos_csv = 'csv/nudos_k65.csv'\n",
    "barras_csv = 'csv/barras_k65.csv'\n",
    "materiales = [est.Material(200e9)]  # Lista de materiales"
   ],
   "metadata": {
    "collapsed": false,
    "pycharm": {
     "name": "#%%\n"
    }
   }
  },
  {
   "cell_type": "code",
   "execution_count": 21,
   "outputs": [],
   "source": [
    "A = 4740*1e-3**2\n",
    "Iz = 22.2e-6\n",
    "secciones = [est.Seccion(area=A, inercia_z=Iz)]  # Lista de secciones\n",
    "restricciones = {1: (1,1,1), 3: (1,1,0)}  # Restricciones\n",
    "cargas_estaticas = {2: (120e3, -37.5e3, 125e3), 3: (0, 0, 75e3)}"
   ],
   "metadata": {
    "collapsed": false,
    "pycharm": {
     "name": "#%%\n"
    }
   }
  },
  {
   "cell_type": "code",
   "execution_count": 22,
   "outputs": [],
   "source": [
    "# Cargas dinámicas\n",
    "cargas_armonicas = {2: ((100e3, 15), 0, 0)}"
   ],
   "metadata": {
    "collapsed": false,
    "pycharm": {
     "name": "#%%\n"
    }
   }
  },
  {
   "cell_type": "code",
   "execution_count": 23,
   "outputs": [],
   "source": [
    "# Resolución de la estructura\n",
    "coords, elementos = est.preprocesamiento(nudos_csv, barras_csv, materiales, secciones)\n",
    "p2d = est.Portico(coords=coords, restricciones=restricciones,elementos=elementos, cargas_nodales=cargas_estaticas)"
   ],
   "metadata": {
    "collapsed": false,
    "pycharm": {
     "name": "#%%\n"
    }
   }
  },
  {
   "cell_type": "code",
   "execution_count": 25,
   "outputs": [
    {
     "name": "stdout",
     "output_type": "stream",
     "text": [
      "\n",
      "Configuración de nudos y barras...\n",
      "Ensamble de matrices globales...\n",
      "Resolución del problema estático...\n",
      "Listo, preguntá lo que quieras.\n"
     ]
    }
   ],
   "source": [
    "p2d.procesamiento();"
   ],
   "metadata": {
    "collapsed": false,
    "pycharm": {
     "name": "#%%\n"
    }
   }
  },
  {
   "cell_type": "code",
   "execution_count": 33,
   "outputs": [],
   "source": [
    "import numpy as np"
   ],
   "metadata": {
    "collapsed": false,
    "pycharm": {
     "name": "#%%\n"
    }
   }
  },
  {
   "cell_type": "code",
   "execution_count": 34,
   "outputs": [],
   "source": [
    "P = np.array([2,3,5])\n",
    "omega2 = np.array([-2, 1, 5])\n",
    "C = np.array([7,8,9])\n",
    "D = np.array([-5,0.6,-2])\n",
    "t = np.linspace(0, 5)"
   ],
   "metadata": {
    "collapsed": false,
    "pycharm": {
     "name": "#%%\n"
    }
   }
  },
  {
   "cell_type": "code",
   "execution_count": 36,
   "outputs": [
    {
     "data": {
      "text/plain": "array([-3.18878536, 21.16784779,  6.49263425])"
     },
     "execution_count": 36,
     "metadata": {},
     "output_type": "execute_result"
    }
   ],
   "source": [
    "qn = P/omega2 * (C*np.sin(.5*2) + D*np.cos(.5*2))\n",
    "qn"
   ],
   "metadata": {
    "collapsed": false,
    "pycharm": {
     "name": "#%%\n"
    }
   }
  },
  {
   "cell_type": "code",
   "execution_count": 45,
   "outputs": [
    {
     "data": {
      "text/plain": "array([5, 5, 4])"
     },
     "execution_count": 45,
     "metadata": {},
     "output_type": "execute_result"
    }
   ],
   "source": [
    "d = np.array([[1,0,-2],[4,5,6]])\n",
    "ds = d.sum(axis=0)\n",
    "ds"
   ],
   "metadata": {
    "collapsed": false,
    "pycharm": {
     "name": "#%%\n"
    }
   }
  },
  {
   "cell_type": "code",
   "execution_count": 47,
   "outputs": [
    {
     "data": {
      "text/plain": "array([ 2.71828183,  7.3890561 , 20.08553692])"
     },
     "execution_count": 47,
     "metadata": {},
     "output_type": "execute_result"
    }
   ],
   "source": [
    "np.e**(np.array([1,2,3]))"
   ],
   "metadata": {
    "collapsed": false,
    "pycharm": {
     "name": "#%%\n"
    }
   }
  },
  {
   "cell_type": "code",
   "execution_count": 19,
   "outputs": [
    {
     "data": {
      "text/plain": "array([[-0.00393307,  0.01900132,  0.28993314, -1.        ],\n       [-0.00837808, -0.0103288 , -1.        , -0.36874071],\n       [-0.89776433,  0.4892676 ,  0.02166389,  0.51540023],\n       [ 1.        ,  1.        , -0.40513064,  0.2428552 ]])"
     },
     "execution_count": 19,
     "metadata": {},
     "output_type": "execute_result"
    }
   ],
   "source": [
    "p2d.modos_max_uno()"
   ],
   "metadata": {
    "collapsed": false,
    "pycharm": {
     "name": "#%%\n"
    }
   }
  },
  {
   "cell_type": "code",
   "execution_count": null,
   "outputs": [],
   "source": [],
   "metadata": {
    "collapsed": false,
    "pycharm": {
     "name": "#%%\n"
    }
   }
  }
 ],
 "metadata": {
  "kernelspec": {
   "display_name": "Python 3",
   "language": "python",
   "name": "python3"
  },
  "language_info": {
   "codemirror_mode": {
    "name": "ipython",
    "version": 2
   },
   "file_extension": ".py",
   "mimetype": "text/x-python",
   "name": "python",
   "nbconvert_exporter": "python",
   "pygments_lexer": "ipython2",
   "version": "2.7.6"
  }
 },
 "nbformat": 4,
 "nbformat_minor": 0
}