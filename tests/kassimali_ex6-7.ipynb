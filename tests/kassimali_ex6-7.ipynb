{
 "cells": [
  {
   "cell_type": "markdown",
   "source": [
    "# Test con Example 6.7 - Kassimali"
   ],
   "metadata": {
    "collapsed": false,
    "pycharm": {
     "name": "#%% md\n"
    }
   }
  },
  {
   "cell_type": "markdown",
   "source": [
    "## Pórtico bidimensional\n",
    "<img src=\"kex67.png\">"
   ],
   "metadata": {
    "collapsed": false,
    "pycharm": {
     "name": "#%% md\n"
    }
   }
  },
  {
   "cell_type": "markdown",
   "source": [
    "## Modelo analítico\n",
    "<img src=\"kex67_model.png\">"
   ],
   "metadata": {
    "collapsed": false,
    "pycharm": {
     "name": "#%% md\n"
    }
   }
  },
  {
   "cell_type": "code",
   "execution_count": 1,
   "outputs": [],
   "source": [
    "import math"
   ],
   "metadata": {
    "collapsed": false,
    "pycharm": {
     "name": "#%%\n"
    }
   }
  },
  {
   "cell_type": "code",
   "execution_count": 2,
   "outputs": [],
   "source": [
    "import analisa.edeb as edb"
   ],
   "metadata": {
    "collapsed": false,
    "pycharm": {
     "name": "#%%\n"
    }
   }
  },
  {
   "cell_type": "markdown",
   "source": [
    "## Datos de nudos"
   ],
   "metadata": {
    "collapsed": false,
    "pycharm": {
     "name": "#%% md\n"
    }
   }
  },
  {
   "cell_type": "code",
   "execution_count": 3,
   "outputs": [],
   "source": [
    "# Datos de los nudos\n",
    "coords = {1: (0,0), 2: (9, 0), 3: (0, 6), 4: (9, 6), 5: (0, 12)}  # Coordenadas de nudos\n",
    "restricciones = {1: (1,1,1), 2: (1,1,1)}  # Apoyos"
   ],
   "metadata": {
    "collapsed": false,
    "pycharm": {
     "name": "#%%\n"
    }
   }
  },
  {
   "cell_type": "markdown",
   "source": [
    "## Datos de barras"
   ],
   "metadata": {
    "collapsed": false,
    "pycharm": {
     "name": "#%% md\n"
    }
   }
  },
  {
   "cell_type": "code",
   "execution_count": 4,
   "outputs": [],
   "source": [
    "# Materiales\n",
    "E = 30e9\n",
    "m = edb.Material(E)"
   ],
   "metadata": {
    "collapsed": false,
    "pycharm": {
     "name": "#%%\n"
    }
   }
  },
  {
   "cell_type": "code",
   "execution_count": 5,
   "outputs": [],
   "source": [
    "# Datos de las secciones\n",
    "A = 75e-3  # área\n",
    "I = 4.8e-4  # inercia\n",
    "s = edb.Seccion(area=A, inercia_z=I)"
   ],
   "metadata": {
    "collapsed": false,
    "pycharm": {
     "name": "#%%\n"
    }
   }
  },
  {
   "cell_type": "code",
   "execution_count": 6,
   "outputs": [],
   "source": [
    "# Conectividad\n",
    "datos_barras = {1: (1,3), 2: (2,4), 3:(3,5), 4: (3,4), 5: (4,5)}"
   ],
   "metadata": {
    "collapsed": false,
    "pycharm": {
     "name": "#%%\n"
    }
   }
  },
  {
   "cell_type": "markdown",
   "source": [
    "## Cargas"
   ],
   "metadata": {
    "collapsed": false,
    "pycharm": {
     "name": "#%% md\n"
    }
   }
  },
  {
   "cell_type": "code",
   "execution_count": 7,
   "outputs": [],
   "source": [
    "cargas_nodales = {3: (80e3, 0, 0), 5: (40e3, 0, 0)}"
   ],
   "metadata": {
    "collapsed": false,
    "pycharm": {
     "name": "#%%\n"
    }
   }
  },
  {
   "cell_type": "code",
   "execution_count": 8,
   "outputs": [],
   "source": [
    "# Cargas en barras\n",
    "ang = math.atan(6/9)\n",
    "q = 12e3\n",
    "qx = q*math.sin(ang)\n",
    "qy = q*math.cos(ang)\n",
    "cargas_barras = {5: (qx, qy)}"
   ],
   "metadata": {
    "collapsed": false,
    "pycharm": {
     "name": "#%%\n"
    }
   }
  },
  {
   "cell_type": "code",
   "execution_count": 9,
   "outputs": [],
   "source": [
    "p = edb.Portico(datos_nudos=coords, restricciones=restricciones,\n",
    "            datos_barras=datos_barras, materiales=m, secciones=s,\n",
    "            cargas_nodales=cargas_nodales, cargas_barras=cargas_barras)"
   ],
   "metadata": {
    "collapsed": false,
    "pycharm": {
     "name": "#%%\n"
    }
   }
  },
  {
   "cell_type": "code",
   "execution_count": 10,
   "outputs": [
    {
     "name": "stdout",
     "output_type": "stream",
     "text": [
      "Ensamble de matrices globales...\n",
      "Resolución del problema estático...\n",
      "Listo, preguntá lo que quieras.\n"
     ]
    }
   ],
   "source": [
    "p.procesamiento()"
   ],
   "metadata": {
    "collapsed": false,
    "pycharm": {
     "name": "#%%\n"
    }
   }
  },
  {
   "cell_type": "code",
   "execution_count": 11,
   "outputs": [
    {
     "data": {
      "text/plain": "array([[ 2.51600000e+05,  0.00000000e+00,  0.00000000e+00,\n        -2.50000000e+05,  0.00000000e+00,  0.00000000e+00,\n        -8.00000000e+02,  0.00000000e+00, -2.40000000e+03],\n       [ 0.00000000e+00,  7.50237037e+05,  1.06666667e+03,\n         0.00000000e+00, -2.37037037e+02,  1.06666667e+03,\n         0.00000000e+00, -3.75000000e+05,  0.00000000e+00],\n       [ 0.00000000e+00,  1.06666667e+03,  2.56000000e+04,\n         0.00000000e+00, -1.06666667e+03,  3.20000000e+03,\n         2.40000000e+03,  0.00000000e+00,  4.80000000e+03],\n       [-2.50000000e+05,  0.00000000e+00,  0.00000000e+00,\n         3.94850718e+05, -9.59427840e+04,  1.99037524e+03,\n        -1.44050718e+05,  9.59427840e+04, -4.09624760e+02],\n       [ 0.00000000e+00, -2.37037037e+02, -1.06666667e+03,\n        -9.59427840e+04,  4.39335435e+05, -1.68110381e+03,\n         9.59427840e+04, -6.40983976e+04, -6.14437140e+02],\n       [ 0.00000000e+00,  1.06666667e+03,  3.20000000e+03,\n         1.99037524e+03, -1.68110381e+03,  2.13251219e+04,\n         4.09624760e+02,  6.14437140e+02,  2.66256094e+03],\n       [-8.00000000e+02,  0.00000000e+00,  2.40000000e+03,\n        -1.44050718e+05,  9.59427840e+04,  4.09624760e+02,\n         1.44850718e+05, -9.59427840e+04,  2.80962476e+03],\n       [ 0.00000000e+00, -3.75000000e+05,  0.00000000e+00,\n         9.59427840e+04, -6.40983976e+04,  6.14437140e+02,\n        -9.59427840e+04,  4.39098398e+05,  6.14437140e+02],\n       [-2.40000000e+03,  0.00000000e+00,  4.80000000e+03,\n        -4.09624760e+02, -6.14437140e+02,  2.66256094e+03,\n         2.80962476e+03,  6.14437140e+02,  1.49251219e+04]])"
     },
     "execution_count": 11,
     "metadata": {},
     "output_type": "execute_result"
    }
   ],
   "source": [
    "p.rigidez_gdl()*1e-3"
   ],
   "metadata": {
    "collapsed": false,
    "pycharm": {
     "name": "#%%\n"
    }
   }
  },
  {
   "cell_type": "code",
   "execution_count": 12,
   "outputs": [
    {
     "data": {
      "text/plain": "array([ 1.85423653e-01,  4.18738947e-04, -1.76198747e-02,  1.85521414e-01,\n       -1.30738947e-04, -2.60284808e-02,  1.86623368e-01,  7.13669896e-04,\n        1.78911956e-02])"
     },
     "execution_count": 12,
     "metadata": {},
     "output_type": "execute_result"
    }
   ],
   "source": [
    "p.desplaz_gdl()"
   ],
   "metadata": {
    "collapsed": false,
    "pycharm": {
     "name": "#%%\n"
    }
   }
  },
  {
   "cell_type": "code",
   "execution_count": 13,
   "outputs": [
    {
     "data": {
      "text/plain": "array([-106.05122292, -157.02710519,  360.44136804,  -85.94877708,\n         49.02710519,  320.31468527])"
     },
     "execution_count": 13,
     "metadata": {},
     "output_type": "execute_result"
    }
   ],
   "source": [
    "p.reacciones()*1e-3"
   ],
   "metadata": {
    "collapsed": false,
    "pycharm": {
     "name": "#%%\n"
    }
   }
  },
  {
   "cell_type": "code",
   "execution_count": 14,
   "outputs": [],
   "source": [
    "b1 = p.barras()[0]"
   ],
   "metadata": {
    "collapsed": false,
    "pycharm": {
     "name": "#%%\n"
    }
   }
  },
  {
   "cell_type": "code",
   "execution_count": 15,
   "outputs": [
    {
     "data": {
      "text/plain": "array([[    800.,       0.,   -2400.,    -800.,       0.,   -2400.],\n       [      0.,  375000.,       0.,       0., -375000.,       0.],\n       [  -2400.,       0.,    9600.,    2400.,       0.,    4800.],\n       [   -800.,       0.,    2400.,     800.,       0.,    2400.],\n       [      0., -375000.,       0.,       0.,  375000.,       0.],\n       [  -2400.,       0.,    4800.,    2400.,       0.,    9600.]])"
     },
     "execution_count": 15,
     "metadata": {},
     "output_type": "execute_result"
    }
   ],
   "source": [
    "b1.rigidez_global*1e-3"
   ],
   "metadata": {
    "collapsed": false,
    "pycharm": {
     "name": "#%%\n"
    }
   }
  },
  {
   "cell_type": "code",
   "execution_count": 16,
   "outputs": [
    {
     "data": {
      "text/plain": "array([-157.02710519,  106.05122292,  360.44136804,  157.02710519,\n       -106.05122292,  275.86596946])"
     },
     "execution_count": 16,
     "metadata": {},
     "output_type": "execute_result"
    }
   ],
   "source": [
    "b1.fuerza_local()*1e-3"
   ],
   "metadata": {
    "collapsed": false,
    "pycharm": {
     "name": "#%%\n"
    }
   }
  },
  {
   "cell_type": "code",
   "execution_count": 17,
   "outputs": [],
   "source": [
    "b5 = p.barras()[4]"
   ],
   "metadata": {
    "collapsed": false,
    "pycharm": {
     "name": "#%%\n"
    }
   }
  },
  {
   "cell_type": "code",
   "execution_count": 18,
   "outputs": [
    {
     "data": {
      "text/plain": "array([ 4.91884467e-15, -6.48999230e+01, -1.17000000e+02,  4.91884467e-15,\n       -6.48999230e+01,  1.17000000e+02])"
     },
     "execution_count": 18,
     "metadata": {},
     "output_type": "execute_result"
    }
   ],
   "source": [
    "b5.carga_equiv_local()*1e-3"
   ],
   "metadata": {
    "collapsed": false,
    "pycharm": {
     "name": "#%%\n"
    }
   }
  },
  {
   "cell_type": "code",
   "execution_count": 19,
   "outputs": [
    {
     "data": {
      "text/plain": "array([ 93.29097262,  59.07024524,  27.00178948, -93.29097262,\n        70.72960068, -90.05939531])"
     },
     "execution_count": 19,
     "metadata": {},
     "output_type": "execute_result"
    }
   ],
   "source": [
    "b5.fuerza_local()*1e-3"
   ],
   "metadata": {
    "collapsed": false,
    "pycharm": {
     "name": "#%%\n"
    }
   }
  },
  {
   "cell_type": "code",
   "execution_count": 20,
   "outputs": [
    {
     "data": {
      "text/plain": "array([  80.,    0.,    0.,   36.,   54., -117.,   76.,   54.,  117.])"
     },
     "execution_count": 20,
     "metadata": {},
     "output_type": "execute_result"
    }
   ],
   "source": [
    "p.fuerza_gdl()*1e-3"
   ],
   "metadata": {
    "collapsed": false,
    "pycharm": {
     "name": "#%%\n"
    }
   }
  },
  {
   "cell_type": "code",
   "execution_count": 21,
   "outputs": [
    {
     "data": {
      "text/plain": "array([ 0.        ,  0.        ,  0.        ,  0.18542365,  0.00041874,\n       -0.01761987])"
     },
     "execution_count": 21,
     "metadata": {},
     "output_type": "execute_result"
    }
   ],
   "source": [
    "b1.desplaz_global()"
   ],
   "metadata": {
    "collapsed": false,
    "pycharm": {
     "name": "#%%\n"
    }
   }
  },
  {
   "cell_type": "code",
   "execution_count": 22,
   "outputs": [
    {
     "data": {
      "text/plain": "array([ 0.        ,  0.        ,  0.        ,  0.00041874, -0.18542365,\n       -0.01761987])"
     },
     "execution_count": 22,
     "metadata": {},
     "output_type": "execute_result"
    }
   ],
   "source": [
    "b1.desplaz_local()"
   ],
   "metadata": {
    "collapsed": false,
    "pycharm": {
     "name": "#%%\n"
    }
   }
  },
  {
   "cell_type": "code",
   "execution_count": 24,
   "outputs": [
    {
     "data": {
      "text/plain": "{5: (6656.402354702748, 9984.603532054125)}"
     },
     "execution_count": 24,
     "metadata": {},
     "output_type": "execute_result"
    }
   ],
   "source": [
    "p.cargas_barras"
   ],
   "metadata": {
    "collapsed": false,
    "pycharm": {
     "name": "#%%\n"
    }
   }
  },
  {
   "cell_type": "code",
   "execution_count": 29,
   "outputs": [],
   "source": [
    "import numpy as np"
   ],
   "metadata": {
    "collapsed": false,
    "pycharm": {
     "name": "#%%\n"
    }
   }
  },
  {
   "cell_type": "code",
   "execution_count": 40,
   "outputs": [
    {
     "name": "stdout",
     "output_type": "stream",
     "text": [
      "[80000.     0.     0.]\n",
      "[40000.     0.     0.]\n"
     ]
    }
   ],
   "source": [
    "for t in p.cargas_nodales:\n",
    "    print(np.asarray(p.cargas_nodales[t]))"
   ],
   "metadata": {
    "collapsed": false,
    "pycharm": {
     "name": "#%%\n"
    }
   }
  },
  {
   "cell_type": "code",
   "execution_count": 43,
   "outputs": [
    {
     "name": "stdout",
     "output_type": "stream",
     "text": [
      "(1, 1, 1)\n",
      "(1, 1, 1)\n"
     ]
    }
   ],
   "source": [
    "for r in p.restricciones.values():\n",
    "    print(r)"
   ],
   "metadata": {
    "collapsed": false,
    "pycharm": {
     "name": "#%%\n"
    }
   }
  },
  {
   "cell_type": "code",
   "execution_count": null,
   "outputs": [],
   "source": [],
   "metadata": {
    "collapsed": false,
    "pycharm": {
     "name": "#%%\n"
    }
   }
  }
 ],
 "metadata": {
  "kernelspec": {
   "display_name": "Python 3",
   "language": "python",
   "name": "python3"
  },
  "language_info": {
   "codemirror_mode": {
    "name": "ipython",
    "version": 2
   },
   "file_extension": ".py",
   "mimetype": "text/x-python",
   "name": "python",
   "nbconvert_exporter": "python",
   "pygments_lexer": "ipython2",
   "version": "2.7.6"
  }
 },
 "nbformat": 4,
 "nbformat_minor": 0
}