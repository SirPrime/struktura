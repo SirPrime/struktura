{
 "cells": [
  {
   "cell_type": "markdown",
   "metadata": {
    "collapsed": false,
    "pycharm": {
     "name": "#%% md\n"
    }
   },
   "source": [
    "# Test con Example 6.7 de Kassimali\n",
    "\n",
    "Del libro \"Matrix Analysis of Structures\", 2nd. Ed. Aslam Kassimali"
   ]
  },
  {
   "cell_type": "markdown",
   "metadata": {
    "collapsed": false,
    "pycharm": {
     "name": "#%% md\n"
    }
   },
   "source": [
    "Determine the joint displacements, member local end forces, and support reactions for the two-story frame, subjected to a wind loading, shown in Fig.\n",
    "\n",
    "<img src=\"kex67.png\" width=500>"
   ]
  },
  {
   "cell_type": "markdown",
   "metadata": {
    "collapsed": false,
    "pycharm": {
     "name": "#%% md\n"
    }
   },
   "source": [
    "## 1. Modelo analítico\n",
    "\n",
    "Para la carga de datos solo será necesaria la enumeración de nudos y barras, el resto de enumeraciones el programa lo hará automáticamente.\n",
    "\n",
    "<img src=\"kex67_model.png\" width=500>"
   ]
  },
  {
   "cell_type": "markdown",
   "metadata": {},
   "source": [
    "## 2. Librerías"
   ]
  },
  {
   "cell_type": "code",
   "execution_count": 1,
   "metadata": {
    "collapsed": false,
    "pycharm": {
     "name": "#%%\n"
    }
   },
   "outputs": [],
   "source": [
    "import math\n",
    "import numpy as np # type: ignore\n",
    "\n",
    "# Ubicación de la carpeta 'struktura'\n",
    "import sys\n",
    "sys.path.append(r\"C:\\Users\\fgrv\\OneDrive\\Documentos\\PythonProjects\\struktura\")\n",
    "\n",
    "import analisa.edeb as edb"
   ]
  },
  {
   "cell_type": "markdown",
   "metadata": {
    "collapsed": false,
    "pycharm": {
     "name": "#%% md\n"
    }
   },
   "source": [
    "## 3. Datos de nudos y barras"
   ]
  },
  {
   "cell_type": "markdown",
   "metadata": {},
   "source": [
    "### 3.1 Coordenadas\n",
    "\n",
    "Las coordenadas de los nudos se pueden introducir en diccionarios, indicando el nudo (en cualquier orden) y sus coordenadas. También se pueden usar listas de coordendas, este caso los datos deben introducirse en el orden de enumeración de los nudos."
   ]
  },
  {
   "cell_type": "code",
   "execution_count": 2,
   "metadata": {},
   "outputs": [],
   "source": [
    "# Datos de los nudos\n",
    "coords = {1: (0,0), 2: (9, 0), 3: (0, 6), 4: (9, 6), 5: (0, 12)}  # Coordenadas"
   ]
  },
  {
   "cell_type": "markdown",
   "metadata": {},
   "source": [
    "### 3.2 Restricciones\n",
    "\n",
    "Las restricciones de los apoyos se indican en diccionarios, con el número de nudo y sus restricciones. La cantidad de restricciones por nudo, depende de los grados de libertad del modelo, en el caso de pórticos tenemos 3 grados de libertad (horizontal, vertical, giro). Por lo que las restriccciones se deben indicar de la siguiente manera:\n",
    "\n",
    "- Empotramiento: (1, 1, 1)\n",
    "- Apoyo de segundo género: (1, 1, 0)\n",
    "- Apoyo de primer género (libre en x, restringido en y): (0, 1, 0)"
   ]
  },
  {
   "cell_type": "code",
   "execution_count": 3,
   "metadata": {
    "collapsed": false,
    "pycharm": {
     "name": "#%%\n"
    }
   },
   "outputs": [],
   "source": [
    "# Restricciones de apoyos\n",
    "restricciones = {1: (1,1,1), 2: (1,1,1)}"
   ]
  },
  {
   "cell_type": "markdown",
   "metadata": {},
   "source": [
    "### 3.3 Materiales\n",
    "Los materiales se definen en la clase 'Material()' de 'edeb.py'"
   ]
  },
  {
   "cell_type": "code",
   "execution_count": 4,
   "metadata": {
    "collapsed": false,
    "pycharm": {
     "name": "#%%\n"
    }
   },
   "outputs": [],
   "source": [
    "# Materiales\n",
    "E = 30e9\n",
    "m = edb.Material(E)"
   ]
  },
  {
   "cell_type": "markdown",
   "metadata": {},
   "source": [
    "### 3.4 Secciones\n",
    "Las secciones se establecen con la clase 'Seccion()' de 'edeb.py'"
   ]
  },
  {
   "cell_type": "code",
   "execution_count": 5,
   "metadata": {
    "collapsed": false,
    "pycharm": {
     "name": "#%%\n"
    }
   },
   "outputs": [],
   "source": [
    "# Datos de las secciones\n",
    "A = 75e-3  # área\n",
    "I = 4.8e-4  # inercia\n",
    "s = edb.Seccion(area=A, inercia_z=I)"
   ]
  },
  {
   "cell_type": "markdown",
   "metadata": {},
   "source": [
    "### 3.5 Tabla de conectividad\n",
    "\n",
    "Como todas las barras son del mismo material y sección, no hace falta indicar estos datos en la tabla de conectividad. Es suficiente indicando el nudo inicial y final de cada barra."
   ]
  },
  {
   "cell_type": "code",
   "execution_count": 6,
   "metadata": {
    "collapsed": false,
    "pycharm": {
     "name": "#%%\n"
    }
   },
   "outputs": [],
   "source": [
    "# Conectividad\n",
    "datos_barras = {1: (1,3), 2: (2,4), 3:(3,5), 4: (3,4), 5: (4,5)}"
   ]
  },
  {
   "cell_type": "markdown",
   "metadata": {
    "collapsed": false,
    "pycharm": {
     "name": "#%% md\n"
    }
   },
   "source": [
    "## 4. Cargas"
   ]
  },
  {
   "cell_type": "markdown",
   "metadata": {},
   "source": [
    "### 4.1 Cargas nodales"
   ]
  },
  {
   "cell_type": "code",
   "execution_count": 7,
   "metadata": {
    "collapsed": false,
    "pycharm": {
     "name": "#%%\n"
    }
   },
   "outputs": [],
   "source": [
    "# Cargas exteriores en los nudos\n",
    "cargas_nodales = {3: (80e3, 0, 0), 5: (40e3, 0, 0)}"
   ]
  },
  {
   "cell_type": "markdown",
   "metadata": {},
   "source": [
    "### 4.2 Carga distribuida\n",
    "\n",
    "Se consideran solo cargas uniformemente distribuidas en toda la longitud de la barra, ya sea en dirección $x$ o en dirección $y$ del sistema de coordenadas local.\n",
    "\n",
    "- Si la carga distribuida no se extiende en toda la longidud del elemento, se debe agregar un nudo en el inicio y fin de la carga.\n",
    "- Si la carga fuese variable, se deben agregar nudos en distancias razonables como para poder asumir carga uniformemente distribuida."
   ]
  },
  {
   "cell_type": "code",
   "execution_count": 8,
   "metadata": {
    "collapsed": false,
    "pycharm": {
     "name": "#%%\n"
    }
   },
   "outputs": [],
   "source": [
    "# Cargas externas sobre barras\n",
    "ang = math.atan(6/9)\n",
    "q = 12e3\n",
    "qx = q*math.sin(ang)\n",
    "qy = q*math.cos(ang)\n",
    "cargas_barras = {5: (qx, qy)}"
   ]
  },
  {
   "cell_type": "markdown",
   "metadata": {},
   "source": [
    "## 5. Procesamiento"
   ]
  },
  {
   "cell_type": "markdown",
   "metadata": {},
   "source": [
    "### 5.1 Creación del modelo analítico"
   ]
  },
  {
   "cell_type": "code",
   "execution_count": 9,
   "metadata": {},
   "outputs": [],
   "source": [
    "# Modelo analítico con todos los datos necesarios\n",
    "p = edb.Portico(datos_nudos=coords, restricciones=restricciones,\n",
    "            datos_barras=datos_barras, materiales=m, secciones=s,\n",
    "            cargas_nodales=cargas_nodales, cargas_barras=cargas_barras)"
   ]
  },
  {
   "cell_type": "markdown",
   "metadata": {},
   "source": [
    "### 5.2 Ejecución de los cálculos"
   ]
  },
  {
   "cell_type": "code",
   "execution_count": 10,
   "metadata": {
    "collapsed": false,
    "pycharm": {
     "name": "#%%\n"
    }
   },
   "outputs": [],
   "source": [
    "# Cálculo de la estructura\n",
    "p.procesamiento()"
   ]
  },
  {
   "cell_type": "markdown",
   "metadata": {
    "collapsed": false,
    "pycharm": {
     "name": "#%%\n"
    }
   },
   "source": [
    "## 6. Resultados"
   ]
  },
  {
   "cell_type": "markdown",
   "metadata": {},
   "source": [
    "### 6.1 Resultados de Kassimali"
   ]
  },
  {
   "cell_type": "markdown",
   "metadata": {},
   "source": [
    "- Desplazamientos nodales (página 313)\n",
    "$$\n",
    "d = \\begin{bmatrix}\n",
    "0.185422 \\, \\text{m}\\\\\n",
    "0.000418736 \\, \\text{m} \\\\\n",
    "-0.0176197 \\, \\text{rad}\\\\\n",
    "0.18552 \\, \\text{m}\\\\\n",
    "-0.000130738 \\, \\text{m}\\\\\n",
    "-0.0260283 \\, \\text{rad}\\\\\n",
    "0.186622 \\, \\text{m}\\\\\n",
    "0.000713665 \\, \\text{m}\\\\\n",
    "0.0178911 \\, \\text{rad}\n",
    "\\end{bmatrix}\n",
    "$$"
   ]
  },
  {
   "cell_type": "markdown",
   "metadata": {},
   "source": [
    "- Fuerzas nodales en coordenadas locales (páginas 314 al 317)\n",
    "\n",
    "$$\n",
    "Q_1 = \\begin{bmatrix}\n",
    "-157.03 \\, \\text{kN}\\\\\n",
    "106.05 \\, \\text{kN}\\\\\n",
    "360.44 \\, \\text{kNm}\\\\\n",
    "157.03 \\, \\text{kN}\\\\\n",
    "-106.05 \\, \\text{kN}\\\\\n",
    "275.86 \\, \\text{kNm}\n",
    "\\end{bmatrix}; \\quad Q_2 = \\begin{bmatrix}\n",
    "49.027 \\, \\text{kN}\\\\\n",
    "85.948 \\, \\text{kN}\\\\\n",
    "320.31 \\, \\text{kNm}\\\\\n",
    "-49.027 \\, \\text{kN}\\\\\n",
    "-85.948 \\, \\text{kN}\\\\\n",
    "195.38 \\, \\text{kNm}\n",
    "\\end{bmatrix}; \\quad Q_3 = \\begin{bmatrix}\n",
    "-110.6 \\, \\text{kN}\\\\\n",
    "1.6114 \\, \\text{kN}\\\\\n",
    "-80.392 \\, \\text{kNm}\\\\\n",
    "110.6 \\, \\text{kN}\\\\\n",
    "-1.6114 \\, \\text{kN}\\\\\n",
    "90.06 \\, \\text{kNm}\n",
    "\\end{bmatrix}; \\quad\n",
    "Q_4 = \\begin{bmatrix}\n",
    "-24.5 \\, \\text{kN}\\\\\n",
    "-46.429 \\, \\text{kN}\\\\\n",
    "-195.47 \\, \\text{kNm}\\\\\n",
    "24.5 \\, \\text{kN}\\\\\n",
    "46.429 \\, \\text{kN}\\\\\n",
    "-222.38 \\, \\text{kNm}\n",
    "\\end{bmatrix}; \\quad Q_5 = \\begin{bmatrix}\n",
    "93.398 \\, \\text{kN}\\\\\n",
    "59.07 \\, \\text{kN}\\\\\n",
    "27.004 \\, \\text{kNm}\\\\\n",
    "-93.398 \\, \\text{kN}\\\\\n",
    "70.73 \\, \\text{kN}\\\\\n",
    "-90.061 \\, \\text{kNm}\n",
    "\\end{bmatrix}\n",
    "$$"
   ]
  },
  {
   "cell_type": "markdown",
   "metadata": {},
   "source": [
    "- Reacciones (página 311):\n",
    "$$\n",
    "R = \\begin{bmatrix} -106.05 \\, \\text{kN} \\\\ -157.03 \\, \\text{kN} \\\\ 360.44 \\, \\text{kNm} \\\\ -85.948 \\, \\text{kN} \\\\ 49.027 \\, \\text{kN} \\\\ 320.31 \\, \\text{kNm} \\end{bmatrix}\n",
    "$$"
   ]
  },
  {
   "cell_type": "markdown",
   "metadata": {},
   "source": [
    "### 6.2 Resultados nuestros"
   ]
  },
  {
   "cell_type": "markdown",
   "metadata": {},
   "source": [
    "#### 6.2.1 Desplazamientos nodales"
   ]
  },
  {
   "cell_type": "code",
   "execution_count": 11,
   "metadata": {
    "collapsed": false,
    "pycharm": {
     "name": "#%%\n"
    }
   },
   "outputs": [
    {
     "data": {
      "text/plain": [
       "array([ 1.85423653e-01,  4.18738947e-04, -1.76198747e-02,  1.85521414e-01,\n",
       "       -1.30738947e-04, -2.60284808e-02,  1.86623368e-01,  7.13669896e-04,\n",
       "        1.78911956e-02])"
      ]
     },
     "execution_count": 11,
     "metadata": {},
     "output_type": "execute_result"
    }
   ],
   "source": [
    "# Desplazamientos nodales\n",
    "p.desplaz_gdl()"
   ]
  },
  {
   "cell_type": "markdown",
   "metadata": {},
   "source": [
    "#### 6.2.2 Fuerzas nodales en coordenadas locales"
   ]
  },
  {
   "cell_type": "code",
   "execution_count": 12,
   "metadata": {},
   "outputs": [
    {
     "data": {
      "text/plain": [
       "array([-157.02710519,  106.05122292,  360.44136804,  157.02710519,\n",
       "       -106.05122292,  275.86596946])"
      ]
     },
     "execution_count": 12,
     "metadata": {},
     "output_type": "execute_result"
    }
   ],
   "source": [
    "# Barra 1\n",
    "b1 = p.barras()[0]\n",
    "b1.fuerza_local()*1e-3"
   ]
  },
  {
   "cell_type": "code",
   "execution_count": 13,
   "metadata": {},
   "outputs": [
    {
     "data": {
      "text/plain": [
       "array([ 49.02710519,  85.94877708, 320.31468527, -49.02710519,\n",
       "       -85.94877708, 195.37797722])"
      ]
     },
     "execution_count": 13,
     "metadata": {},
     "output_type": "execute_result"
    }
   ],
   "source": [
    "# Barra 2\n",
    "b2 = p.barras()[1]\n",
    "b2.fuerza_local()*1e-3"
   ]
  },
  {
   "cell_type": "code",
   "execution_count": 14,
   "metadata": {},
   "outputs": [
    {
     "data": {
      "text/plain": [
       "array([-110.59910588,    1.61094215,  -80.39374239,  110.59910588,\n",
       "         -1.61094215,   90.05939531])"
      ]
     },
     "execution_count": 14,
     "metadata": {},
     "output_type": "execute_result"
    }
   ],
   "source": [
    "# Barra 3\n",
    "b3 = p.barras()[2]\n",
    "b3.fuerza_local()*1e-3"
   ]
  },
  {
   "cell_type": "code",
   "execution_count": 15,
   "metadata": {},
   "outputs": [
    {
     "data": {
      "text/plain": [
       "array([ -24.44028077,  -46.42799931, -195.47222706,   24.44028077,\n",
       "         46.42799931, -222.37976671])"
      ]
     },
     "execution_count": 15,
     "metadata": {},
     "output_type": "execute_result"
    }
   ],
   "source": [
    "# Barra 4\n",
    "b4 = p.barras()[3]\n",
    "b4.fuerza_local()*1e-3"
   ]
  },
  {
   "cell_type": "code",
   "execution_count": 16,
   "metadata": {},
   "outputs": [
    {
     "data": {
      "text/plain": [
       "array([ 93.29097262,  59.07024524,  27.00178948, -93.29097262,\n",
       "        70.72960068, -90.05939531])"
      ]
     },
     "execution_count": 16,
     "metadata": {},
     "output_type": "execute_result"
    }
   ],
   "source": [
    "# Barra 5\n",
    "b5 = p.barras()[4]\n",
    "b5.fuerza_local()*1e-3"
   ]
  },
  {
   "cell_type": "markdown",
   "metadata": {},
   "source": [
    "#### 6.2.3 Reacciones"
   ]
  },
  {
   "cell_type": "code",
   "execution_count": 17,
   "metadata": {
    "collapsed": false,
    "pycharm": {
     "name": "#%%\n"
    }
   },
   "outputs": [
    {
     "data": {
      "text/plain": [
       "array([-106.05122292, -157.02710519,  360.44136804,  -85.94877708,\n",
       "         49.02710519,  320.31468527])"
      ]
     },
     "execution_count": 17,
     "metadata": {},
     "output_type": "execute_result"
    }
   ],
   "source": [
    "# Reacciones\n",
    "p.reacciones()*1e-3"
   ]
  },
  {
   "cell_type": "code",
   "execution_count": null,
   "metadata": {},
   "outputs": [],
   "source": []
  }
 ],
 "metadata": {
  "kernelspec": {
   "display_name": "Python 3",
   "language": "python",
   "name": "python3"
  },
  "language_info": {
   "codemirror_mode": {
    "name": "ipython",
    "version": 3
   },
   "file_extension": ".py",
   "mimetype": "text/x-python",
   "name": "python",
   "nbconvert_exporter": "python",
   "pygments_lexer": "ipython3",
   "version": "3.11.5"
  }
 },
 "nbformat": 4,
 "nbformat_minor": 0
}
