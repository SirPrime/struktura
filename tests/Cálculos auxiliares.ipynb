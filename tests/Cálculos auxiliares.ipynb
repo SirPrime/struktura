{
 "cells": [
  {
   "cell_type": "markdown",
   "source": [
    "# Cálculos auxiliares"
   ],
   "metadata": {
    "collapsed": false,
    "pycharm": {
     "name": "#%% md\n"
    }
   }
  },
  {
   "cell_type": "markdown",
   "source": [
    "Integral de Duhamel"
   ],
   "metadata": {
    "collapsed": false,
    "pycharm": {
     "name": "#%% md\n"
    }
   }
  },
  {
   "cell_type": "markdown",
   "source": [
    "$$\n",
    "u(t) = \\dfrac{1}{m\\omega_n} \\int_0^t p(\\tau) \\sin [\\omega_n(t - \\tau)] \\, d\\tau\n",
    "$$"
   ],
   "metadata": {
    "collapsed": false,
    "pycharm": {
     "name": "#%% md\n"
    }
   },
   "outputs": [
    {
     "ename": "SyntaxError",
     "evalue": "invalid syntax (3513259702.py, line 1)",
     "output_type": "error",
     "traceback": [
      "\u001B[0;36m  Input \u001B[0;32mIn [1]\u001B[0;36m\u001B[0m\n\u001B[0;31m    $$\u001B[0m\n\u001B[0m    ^\u001B[0m\n\u001B[0;31mSyntaxError\u001B[0m\u001B[0;31m:\u001B[0m invalid syntax\n"
     ]
    }
   ],
   "execution_count": 1
  },
  {
   "cell_type": "code",
   "execution_count": 1,
   "outputs": [],
   "source": [
    "import sympy as sp"
   ],
   "metadata": {
    "collapsed": false,
    "pycharm": {
     "name": "#%%\n"
    }
   }
  },
  {
   "cell_type": "code",
   "execution_count": 8,
   "outputs": [],
   "source": [
    "p = sp.symbols(\"p\")\n",
    "omega, omega_n, tau, t, zeta = sp.symbols(\"omega omega_n tau t zeta\", positive=True)\n",
    "A, B, C, D = sp.symbols(\"A B C D\")"
   ],
   "metadata": {
    "collapsed": false,
    "pycharm": {
     "name": "#%%\n"
    }
   }
  },
  {
   "cell_type": "code",
   "execution_count": 3,
   "outputs": [
    {
     "data": {
      "text/plain": "p*sin(omega_n*(t - tau))",
      "text/latex": "$\\displaystyle p \\sin{\\left(\\omega_{n} \\left(t - \\tau\\right) \\right)}$"
     },
     "execution_count": 3,
     "metadata": {},
     "output_type": "execute_result"
    }
   ],
   "source": [
    "# Para una función p = cte.\n",
    "f = p*sp.sin(omega_n*(t-tau))\n",
    "f"
   ],
   "metadata": {
    "collapsed": false,
    "pycharm": {
     "name": "#%%\n"
    }
   }
  },
  {
   "cell_type": "code",
   "execution_count": 4,
   "outputs": [
    {
     "data": {
      "text/plain": "-p*(cos(omega_n*t) - 1)/omega_n**2",
      "text/latex": "$\\displaystyle - \\frac{p \\left(\\cos{\\left(\\omega_{n} t \\right)} - 1\\right)}{\\omega_{n}^{2}}$"
     },
     "execution_count": 4,
     "metadata": {},
     "output_type": "execute_result"
    }
   ],
   "source": [
    "um = 1/omega_n * sp.integrate(f, (tau, 0, t))\n",
    "um.factor()"
   ],
   "metadata": {
    "collapsed": false,
    "pycharm": {
     "name": "#%%\n"
    }
   }
  },
  {
   "cell_type": "code",
   "execution_count": 5,
   "outputs": [],
   "source": [
    "# Si la función p es armónica con frecuencia angular omega\n",
    "f = p*sp.sin(omega*tau)"
   ],
   "metadata": {
    "collapsed": false,
    "pycharm": {
     "name": "#%%\n"
    }
   }
  },
  {
   "cell_type": "code",
   "execution_count": 6,
   "outputs": [
    {
     "data": {
      "text/plain": "-p*(cos(omega*t) - 1)/(omega*omega_n)",
      "text/latex": "$\\displaystyle - \\frac{p \\left(\\cos{\\left(\\omega t \\right)} - 1\\right)}{\\omega \\omega_{n}}$"
     },
     "execution_count": 6,
     "metadata": {},
     "output_type": "execute_result"
    }
   ],
   "source": [
    "um2 = 1/omega_n * sp.integrate(f, (tau, 0, t))\n",
    "um2.factor()"
   ],
   "metadata": {
    "collapsed": false,
    "pycharm": {
     "name": "#%%\n"
    }
   }
  },
  {
   "cell_type": "code",
   "execution_count": 9,
   "outputs": [
    {
     "data": {
      "text/plain": "omega_n*sqrt(1 - zeta**2)",
      "text/latex": "$\\displaystyle \\omega_{n} \\sqrt{1 - \\zeta^{2}}$"
     },
     "execution_count": 9,
     "metadata": {},
     "output_type": "execute_result"
    }
   ],
   "source": [
    "omega_D = omega_n*sp.sqrt(1-zeta**2)\n",
    "omega_D"
   ],
   "metadata": {
    "collapsed": false,
    "pycharm": {
     "name": "#%%\n"
    }
   }
  },
  {
   "cell_type": "code",
   "execution_count": 10,
   "outputs": [
    {
     "data": {
      "text/plain": "C*sin(omega*t) + D*cos(omega*t) + (A*cos(omega_n*t*sqrt(1 - zeta**2)) + B*sin(omega_n*t*sqrt(1 - zeta**2)))*exp(-omega_n*t*zeta)",
      "text/latex": "$\\displaystyle C \\sin{\\left(\\omega t \\right)} + D \\cos{\\left(\\omega t \\right)} + \\left(A \\cos{\\left(\\omega_{n} t \\sqrt{1 - \\zeta^{2}} \\right)} + B \\sin{\\left(\\omega_{n} t \\sqrt{1 - \\zeta^{2}} \\right)}\\right) e^{- \\omega_{n} t \\zeta}$"
     },
     "execution_count": 10,
     "metadata": {},
     "output_type": "execute_result"
    }
   ],
   "source": [
    "u = sp.exp(-zeta*omega_n*t) * (A*sp.cos(omega_D*t) + B*sp.sin(omega_D*t)) + C*sp.sin(omega*t) + D*sp.cos(omega*t)\n",
    "u"
   ],
   "metadata": {
    "collapsed": false,
    "pycharm": {
     "name": "#%%\n"
    }
   }
  },
  {
   "cell_type": "code",
   "execution_count": 13,
   "outputs": [
    {
     "data": {
      "text/plain": "A + D",
      "text/latex": "$\\displaystyle A + D$"
     },
     "execution_count": 13,
     "metadata": {},
     "output_type": "execute_result"
    }
   ],
   "source": [
    "us = u.subs(t, 0)  # Desplazamiento estático\n",
    "us"
   ],
   "metadata": {
    "collapsed": false,
    "pycharm": {
     "name": "#%%\n"
    }
   }
  },
  {
   "cell_type": "code",
   "execution_count": 15,
   "outputs": [
    {
     "data": {
      "text/plain": "-A*omega_n*zeta + B*omega_n*sqrt(1 - zeta**2) + C*omega",
      "text/latex": "$\\displaystyle - A \\omega_{n} \\zeta + B \\omega_{n} \\sqrt{1 - \\zeta^{2}} + C \\omega$"
     },
     "execution_count": 15,
     "metadata": {},
     "output_type": "execute_result"
    }
   ],
   "source": [
    "du = u.diff(t)\n",
    "du.subs(t, 0)"
   ],
   "metadata": {
    "collapsed": false,
    "pycharm": {
     "name": "#%%\n"
    }
   }
  },
  {
   "cell_type": "code",
   "execution_count": null,
   "outputs": [],
   "source": [],
   "metadata": {
    "collapsed": false,
    "pycharm": {
     "name": "#%%\n"
    }
   }
  }
 ],
 "metadata": {
  "kernelspec": {
   "display_name": "Python 3",
   "language": "python",
   "name": "python3"
  },
  "language_info": {
   "codemirror_mode": {
    "name": "ipython",
    "version": 2
   },
   "file_extension": ".py",
   "mimetype": "text/x-python",
   "name": "python",
   "nbconvert_exporter": "python",
   "pygments_lexer": "ipython2",
   "version": "2.7.6"
  }
 },
 "nbformat": 4,
 "nbformat_minor": 0
}