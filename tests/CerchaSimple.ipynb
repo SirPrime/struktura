{
 "cells": [
  {
   "cell_type": "markdown",
   "metadata": {},
   "source": [
    "# Cálculo de una cercha simple"
   ]
  },
  {
   "cell_type": "markdown",
   "metadata": {},
   "source": [
    "## 1. Librerías"
   ]
  },
  {
   "cell_type": "code",
   "execution_count": 1,
   "metadata": {},
   "outputs": [],
   "source": [
    "# Ubicación de la carpeta *struktura*\n",
    "import sys\n",
    "sys.path.append(r\"C:\\Users\\fgrv\\OneDrive\\Documentos\\PythonProjects\\struktura\")\n",
    "\n",
    "import analisa.edeb as edb"
   ]
  },
  {
   "cell_type": "markdown",
   "metadata": {},
   "source": [
    "## 2. Datos\n",
    "\n",
    "Fuerzas en $kN$ y distancias en $m$"
   ]
  },
  {
   "cell_type": "code",
   "execution_count": 2,
   "metadata": {},
   "outputs": [],
   "source": [
    "A1 = 50e-6  # m2\n",
    "A2 = 35e-6 # m2\n",
    "E = 200e6  # kN/m2 = kPa"
   ]
  },
  {
   "cell_type": "code",
   "execution_count": 3,
   "metadata": {},
   "outputs": [],
   "source": [
    "# Instanciones de la clase Seccion\n",
    "s1 = edb.Seccion(area=A1)\n",
    "s2 = edb.Seccion(area=A2)\n",
    "\n",
    "# Instanciación de la clase Material\n",
    "m1 = edb.Material(elast_long=E)"
   ]
  },
  {
   "cell_type": "code",
   "execution_count": 4,
   "metadata": {},
   "outputs": [],
   "source": [
    "# Coordenadas de los nudos, en el orden de enumeración\n",
    "coords = [(0, 0), (3, 0), (7, 0), (3, 4)]\n",
    "\n",
    "# Tabla de conectividad de las barras en el orden de enumeración\n",
    "# Formato: [(#nudo_inicial, #nudo_final, num_de_material, num_de_seccion), ...]\n",
    "conect = [(2, 3, 1, 1), (1, 4, 1, 2), (2, 4, 1, 2), (3, 4, 1, 1)]\n",
    "\n",
    "# Restricciones {#nudo: (restX, restY), ...}\n",
    "rest = {1: (1, 1), 2: (1, 1), 3: (0, 1)}\n",
    "\n",
    "# Lista de materiales\n",
    "mat = m1\n",
    "\n",
    "# Lista de secciones\n",
    "s = [s1, s2]\n",
    "\n",
    "# Cargas nodales {#nudo: (Px, Py), ...}\n",
    "cargas = {4: (-8, -10)}"
   ]
  },
  {
   "cell_type": "markdown",
   "metadata": {},
   "source": [
    "## 3. Procesamiento"
   ]
  },
  {
   "cell_type": "markdown",
   "metadata": {},
   "source": [
    "### 3.1 Preliminar"
   ]
  },
  {
   "cell_type": "code",
   "execution_count": 5,
   "metadata": {},
   "outputs": [],
   "source": [
    "# Instanciación de la clase Reticulado\n",
    "st = edb.Reticulado(datos_nudos=coords, restricciones=rest, datos_barras=conect,\n",
    "                   materiales=mat, secciones=s, cargas_nodales=cargas)"
   ]
  },
  {
   "cell_type": "markdown",
   "metadata": {},
   "source": [
    "### 3.2 Dibujo de la estructura para revisión\n",
    "\n",
    "Con sus respectivas asignaciones numéricas.\n",
    "\n",
    "Respecto a los apoyos:\n",
    "- Triángulos en negro para los apoyos con restricción completa.\n",
    "- Triángulos en colores para apoyos con restricción parcial\n",
    "- Círculos para nudos sin restricciones"
   ]
  },
  {
   "cell_type": "code",
   "execution_count": 6,
   "metadata": {},
   "outputs": [
    {
     "data": {
      "image/png": "[encoded data removed]",
      "text/plain": [
       "<Figure size 640x480 with 1 Axes>"
      ]
     },
     "metadata": {},
     "output_type": "display_data"
    }
   ],
   "source": [
    "st.dibujar_nudos(num=True)\n",
    "st.dibujar_barras(num=True)"
   ]
  },
  {
   "cell_type": "markdown",
   "metadata": {},
   "source": [
    "### 3.3 Realización de los cálculos"
   ]
  },
  {
   "cell_type": "code",
   "execution_count": 7,
   "metadata": {},
   "outputs": [],
   "source": [
    "# Cálculos\n",
    "st.procesamiento()"
   ]
  },
  {
   "cell_type": "markdown",
   "metadata": {},
   "source": [
    "## 4. Resultados"
   ]
  },
  {
   "cell_type": "markdown",
   "metadata": {},
   "source": [
    "### 4.1 Valores de barras individuales que podrían interesar"
   ]
  },
  {
   "cell_type": "code",
   "execution_count": 8,
   "metadata": {},
   "outputs": [
    {
     "data": {
      "text/plain": [
       "-260500.73703443227"
      ]
     },
     "execution_count": 8,
     "metadata": {},
     "output_type": "execute_result"
    }
   ],
   "source": [
    "# Tensión en la barra 2\n",
    "b2 = st.barras()[1]\n",
    "b2.tension()"
   ]
  },
  {
   "cell_type": "code",
   "execution_count": 9,
   "metadata": {},
   "outputs": [
    {
     "data": {
      "text/plain": [
       "-0.0029916936487501835"
      ]
     },
     "execution_count": 9,
     "metadata": {},
     "output_type": "execute_result"
    }
   ],
   "source": [
    "# Elongación de la barra 3\n",
    "b3 = st.barras()[2]\n",
    "b3.elongacion()"
   ]
  },
  {
   "cell_type": "code",
   "execution_count": 10,
   "metadata": {},
   "outputs": [
    {
     "data": {
      "text/plain": [
       "array([[ 1400.,     0., -1400.,     0.],\n",
       "       [    0.,     0.,     0.,     0.],\n",
       "       [-1400.,    -0.,  1400.,    -0.],\n",
       "       [    0.,     0.,     0.,     0.]])"
      ]
     },
     "execution_count": 10,
     "metadata": {},
     "output_type": "execute_result"
    }
   ],
   "source": [
    "# Matriz de rigidez local de la barra 2\n",
    "b2.rigidez_local"
   ]
  },
  {
   "cell_type": "code",
   "execution_count": 11,
   "metadata": {},
   "outputs": [
    {
     "data": {
      "text/plain": [
       "array([[-0.70710678,  0.70710678,  0.        ,  0.        ],\n",
       "       [-0.70710678, -0.70710678,  0.        ,  0.        ],\n",
       "       [ 0.        ,  0.        , -0.70710678,  0.70710678],\n",
       "       [ 0.        ,  0.        , -0.70710678, -0.70710678]])"
      ]
     },
     "execution_count": 11,
     "metadata": {},
     "output_type": "execute_result"
    }
   ],
   "source": [
    "# Matriz de transformación de coordenadas de la barra 4\n",
    "b4 = st.barras()[3]\n",
    "b4.transf_coord()"
   ]
  },
  {
   "cell_type": "code",
   "execution_count": 12,
   "metadata": {},
   "outputs": [
    {
     "data": {
      "text/plain": [
       "array([[ 883.88347648, -883.88347648, -883.88347648,  883.88347648],\n",
       "       [-883.88347648,  883.88347648,  883.88347648, -883.88347648],\n",
       "       [-883.88347648,  883.88347648,  883.88347648, -883.88347648],\n",
       "       [ 883.88347648, -883.88347648, -883.88347648,  883.88347648]])"
      ]
     },
     "execution_count": 12,
     "metadata": {},
     "output_type": "execute_result"
    }
   ],
   "source": [
    "# Matriz de rigidez global de la barra 4\n",
    "b4.rigidez_global"
   ]
  },
  {
   "cell_type": "code",
   "execution_count": 13,
   "metadata": {},
   "outputs": [
    {
     "data": {
      "text/plain": [
       "array([ 0.        ,  0.        , -0.00686527, -0.00299169])"
      ]
     },
     "execution_count": 13,
     "metadata": {},
     "output_type": "execute_result"
    }
   ],
   "source": [
    "# Vector de desplazamientos en coordenadas globales de la barra 2\n",
    "b2.desplaz_global()"
   ]
  },
  {
   "cell_type": "code",
   "execution_count": 14,
   "metadata": {},
   "outputs": [
    {
     "data": {
      "text/plain": [
       "7850.0"
      ]
     },
     "execution_count": 14,
     "metadata": {},
     "output_type": "execute_result"
    }
   ],
   "source": [
    "# Densidad de la barra 2\n",
    "b2.material.densidad"
   ]
  },
  {
   "cell_type": "markdown",
   "metadata": {},
   "source": [
    "### 4.2 Valores nodales que podrían interesar"
   ]
  },
  {
   "cell_type": "code",
   "execution_count": 15,
   "metadata": {},
   "outputs": [
    {
     "data": {
      "text/plain": [
       "(6, 7)"
      ]
     },
     "execution_count": 15,
     "metadata": {},
     "output_type": "execute_result"
    }
   ],
   "source": [
    "# Enumeración de grados de libertad del nudo 2\n",
    "n2 = st.nudos()[1]\n",
    "n2.gdl()"
   ]
  },
  {
   "cell_type": "code",
   "execution_count": 16,
   "metadata": {},
   "outputs": [
    {
     "data": {
      "text/plain": [
       "array([ -8, -10])"
      ]
     },
     "execution_count": 16,
     "metadata": {},
     "output_type": "execute_result"
    }
   ],
   "source": [
    "# Cargas externas en el nudo 4\n",
    "n4 = st.nudos()[3]\n",
    "n4.cargas()"
   ]
  },
  {
   "cell_type": "code",
   "execution_count": 17,
   "metadata": {},
   "outputs": [
    {
     "data": {
      "text/plain": [
       "array([-0.00101179,  0.        ])"
      ]
     },
     "execution_count": 17,
     "metadata": {},
     "output_type": "execute_result"
    }
   ],
   "source": [
    "# Desplazamiento del nudo 3\n",
    "n3 = st.nudos()[2]\n",
    "n3.desplaz()"
   ]
  },
  {
   "cell_type": "code",
   "execution_count": 18,
   "metadata": {},
   "outputs": [
    {
     "data": {
      "text/plain": [
       "(7, 0)"
      ]
     },
     "execution_count": 18,
     "metadata": {},
     "output_type": "execute_result"
    }
   ],
   "source": [
    "# Coordenadas iniciales del nudo 3\n",
    "n3.coord"
   ]
  },
  {
   "cell_type": "code",
   "execution_count": 19,
   "metadata": {},
   "outputs": [
    {
     "data": {
      "text/plain": [
       "array([2.99313473, 3.99700831])"
      ]
     },
     "execution_count": 19,
     "metadata": {},
     "output_type": "execute_result"
    }
   ],
   "source": [
    "# Coordenadas finales del nudo 4\n",
    "n4.posicion()"
   ]
  },
  {
   "cell_type": "markdown",
   "metadata": {},
   "source": [
    "### 4.3 Resultados de la estructura global"
   ]
  },
  {
   "cell_type": "code",
   "execution_count": 20,
   "metadata": {},
   "outputs": [
    {
     "data": {
      "text/plain": [
       "array([-0.00101179, -0.00686527, -0.00299169])"
      ]
     },
     "execution_count": 20,
     "metadata": {},
     "output_type": "execute_result"
    }
   ],
   "source": [
    "# Desplazamientos en los grados de libertad\n",
    "st.desplaz_gdl()"
   ]
  },
  {
   "cell_type": "code",
   "execution_count": 21,
   "metadata": {},
   "outputs": [
    {
     "data": {
      "text/plain": [
       "array([ -50589.69044554, -260500.73703443, -149584.68243751,\n",
       "         71544.62634434])"
      ]
     },
     "execution_count": 21,
     "metadata": {},
     "output_type": "execute_result"
    }
   ],
   "source": [
    "# Tensiones de las barras en orden de enumeración\n",
    "st.tensiones()"
   ]
  },
  {
   "cell_type": "code",
   "execution_count": 22,
   "metadata": {},
   "outputs": [
    {
     "data": {
      "text/plain": [
       "array([-0.00101179, -0.00651252, -0.00299169,  0.00202359])"
      ]
     },
     "execution_count": 22,
     "metadata": {},
     "output_type": "execute_result"
    }
   ],
   "source": [
    "# Deformaciones axiales de las barras en orden de enumeración\n",
    "st.elongaciones()"
   ]
  },
  {
   "cell_type": "code",
   "execution_count": 23,
   "metadata": {},
   "outputs": [
    {
     "data": {
      "text/plain": [
       "array([ 5.47051548,  7.29402064,  2.52948452,  5.23546389, -2.52948452])"
      ]
     },
     "execution_count": 23,
     "metadata": {},
     "output_type": "execute_result"
    }
   ],
   "source": [
    "# Reacciones en los grados de restricción\n",
    "st.reacciones()"
   ]
  },
  {
   "cell_type": "markdown",
   "metadata": {},
   "source": [
    "### 4.4 Gráfico de la deformada"
   ]
  },
  {
   "cell_type": "code",
   "execution_count": 24,
   "metadata": {},
   "outputs": [
    {
     "data": {
      "image/png": "[encoded data removed]",
      "text/plain": [
       "<Figure size 640x480 with 1 Axes>"
      ]
     },
     "metadata": {},
     "output_type": "display_data"
    }
   ],
   "source": [
    "# Estructura sin aplicación de las cargas. Enumera las barras.\n",
    "st.dibujar_barras(num=True)\n",
    "\n",
    "# Nudos enumerados y en sus posiciones iniciales\n",
    "# Triángulos para los apoyos\n",
    "st.dibujar_nudos(num=True)\n",
    "\n",
    "# Deformada amplificada. Azul: tracción; Rojo: compresión\n",
    "st.dibujar_deform(amp=50, colorear=True, espesor_area=100)"
   ]
  }
 ],
 "metadata": {
  "kernelspec": {
   "display_name": "base",
   "language": "python",
   "name": "python3"
  },
  "language_info": {
   "codemirror_mode": {
    "name": "ipython",
    "version": 3
   },
   "file_extension": ".py",
   "mimetype": "text/x-python",
   "name": "python",
   "nbconvert_exporter": "python",
   "pygments_lexer": "ipython3",
   "version": "3.11.5"
  }
 },
 "nbformat": 4,
 "nbformat_minor": 2
}
