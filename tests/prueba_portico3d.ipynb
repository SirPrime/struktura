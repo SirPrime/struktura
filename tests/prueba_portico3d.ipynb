{
 "cells": [
  {
   "cell_type": "code",
   "execution_count": 1,
   "outputs": [],
   "source": [
    "import analisa.edeb as est"
   ],
   "metadata": {
    "collapsed": false,
    "pycharm": {
     "name": "#%%\n"
    }
   }
  },
  {
   "cell_type": "code",
   "execution_count": 2,
   "outputs": [],
   "source": [
    "# Datos de nudos y barras\n",
    "nudos_csv = 'csv/nudos_k84.csv'\n",
    "barras_csv = 'csv/barras_k84.csv'"
   ],
   "metadata": {
    "collapsed": false,
    "pycharm": {
     "name": "#%%\n"
    }
   }
  },
  {
   "cell_type": "code",
   "execution_count": 3,
   "outputs": [],
   "source": [
    "# Datos de materiales\n",
    "mat = est.Material(200e9)\n",
    "mat.elast_transv = 79.29e9\n",
    "materiales = [mat]  # Lista de materiales"
   ],
   "metadata": {
    "collapsed": false,
    "pycharm": {
     "name": "#%%\n"
    }
   }
  },
  {
   "cell_type": "code",
   "execution_count": 4,
   "outputs": [],
   "source": [
    "# Datos de la sección\n",
    "pulg = 0.0254\n",
    "A = 32.9*pulg**2\n",
    "Iz = 715*pulg**4\n",
    "Iy = 236*pulg**4\n",
    "J = 15.1*pulg**4\n",
    "s = est.Seccion(area=A, inercia_y=Iy, inercia_z=Iz)\n",
    "s.inercia_polar = J\n",
    "secciones = [s]"
   ],
   "metadata": {
    "collapsed": false,
    "pycharm": {
     "name": "#%%\n"
    }
   }
  },
  {
   "cell_type": "code",
   "execution_count": 5,
   "outputs": [],
   "source": [
    "# Datos de cargas\n",
    "lb = 0.453592*9.80665 # N\n",
    "k = 1000*lb\n",
    "ft = 12*pulg\n",
    "q = 3*k/ft\n",
    "V = q*20*ft/2\n",
    "M = q*(20*ft)**2/12\n",
    "T1 = 150*k*ft\n",
    "\n",
    "cargas = {1:(0, V, 0, -T1, 0, T1 - M), 2:(0, V, 0, 0, 0, T1)}"
   ],
   "metadata": {
    "collapsed": false,
    "pycharm": {
     "name": "#%%\n"
    }
   }
  },
  {
   "cell_type": "code",
   "execution_count": 6,
   "outputs": [],
   "source": [
    "# Restricciones\n",
    "rest = {2: (1,1,1,1,1,1), 3: (1,1,1,1,1,1), 4: (1,1,1,1,1,1)}"
   ],
   "metadata": {
    "collapsed": false,
    "pycharm": {
     "name": "#%%\n"
    }
   }
  },
  {
   "cell_type": "code",
   "execution_count": 7,
   "outputs": [],
   "source": [
    "# Preprocesamiento\n",
    "coords, elementos = est.preprocesamiento(nudos_csv, barras_csv, materiales, secciones)"
   ],
   "metadata": {
    "collapsed": false,
    "pycharm": {
     "name": "#%%\n"
    }
   }
  },
  {
   "cell_type": "code",
   "execution_count": 8,
   "outputs": [],
   "source": [
    "# Creación del pórtico 3D\n",
    "p3d = est.Portico(coords=coords, restricciones=rest,elementos=elementos, cargas_nodales=cargas)"
   ],
   "metadata": {
    "collapsed": false,
    "pycharm": {
     "name": "#%%\n"
    }
   }
  },
  {
   "cell_type": "code",
   "execution_count": 9,
   "outputs": [
    {
     "name": "stdout",
     "output_type": "stream",
     "text": [
      "Configuración de nudos y barras...\n",
      "Ensamble de matrices globales...\n",
      "Resolución del problema estático...\n",
      "Listo, preguntá lo que quieras.\n"
     ]
    }
   ],
   "source": [
    "# Cálculos\n",
    "p3d.procesamiento();"
   ],
   "metadata": {
    "collapsed": false,
    "pycharm": {
     "name": "#%%\n"
    }
   }
  },
  {
   "cell_type": "code",
   "execution_count": 10,
   "outputs": [],
   "source": [
    "S = p3d.rigidez_gdl()"
   ],
   "metadata": {
    "collapsed": false,
    "pycharm": {
     "name": "#%%\n"
    }
   }
  },
  {
   "cell_type": "code",
   "execution_count": 11,
   "outputs": [],
   "source": [
    "barras = p3d.barras()"
   ],
   "metadata": {
    "collapsed": false,
    "pycharm": {
     "name": "#%%\n"
    }
   }
  },
  {
   "cell_type": "code",
   "execution_count": 12,
   "outputs": [],
   "source": [
    "b1 = barras[0]"
   ],
   "metadata": {
    "collapsed": false,
    "pycharm": {
     "name": "#%%\n"
    }
   }
  },
  {
   "cell_type": "code",
   "execution_count": 27,
   "outputs": [
    {
     "data": {
      "text/plain": "array([[1., 0., 0.],\n       [0., 1., 0.],\n       [0., 0., 1.]])"
     },
     "execution_count": 27,
     "metadata": {},
     "output_type": "execute_result"
    }
   ],
   "source": [
    "b1.matriz_cos_dir()"
   ],
   "metadata": {
    "collapsed": false,
    "pycharm": {
     "name": "#%%\n"
    }
   }
  },
  {
   "cell_type": "code",
   "execution_count": 28,
   "outputs": [
    {
     "data": {
      "text/plain": "array([[ 0.,  1.,  0.],\n       [-1.,  0.,  0.],\n       [ 0.,  0.,  1.]])"
     },
     "execution_count": 28,
     "metadata": {},
     "output_type": "execute_result"
    }
   ],
   "source": [
    "barras[1].matriz_cos_dir()"
   ],
   "metadata": {
    "collapsed": false,
    "pycharm": {
     "name": "#%%\n"
    }
   }
  },
  {
   "cell_type": "code",
   "execution_count": 32,
   "outputs": [
    {
     "data": {
      "text/plain": "array([[ 6.96383333e+08,  0.00000000e+00,  0.00000000e+00,\n         0.00000000e+00,  0.00000000e+00,  0.00000000e+00,\n        -6.96383333e+08,  0.00000000e+00,  0.00000000e+00,\n         0.00000000e+00,  0.00000000e+00,  0.00000000e+00],\n       [ 0.00000000e+00,  7.14253126e+08,  0.00000000e+00,\n         0.00000000e+00,  0.00000000e+00,  9.61019583e+06,\n         0.00000000e+00, -3.15295139e+06,  0.00000000e+00,\n         0.00000000e+00,  0.00000000e+00,  9.61019583e+06],\n       [ 0.00000000e+00,  0.00000000e+00,  1.04069444e+06,\n         0.00000000e+00, -3.17203667e+06,  0.00000000e+00,\n         0.00000000e+00,  0.00000000e+00, -1.04069444e+06,\n         0.00000000e+00, -3.17203667e+06,  0.00000000e+00],\n       [ 0.00000000e+00,  0.00000000e+00,  0.00000000e+00,\n         8.17495317e+04,  0.00000000e+00,  0.00000000e+00,\n         0.00000000e+00,  0.00000000e+00,  0.00000000e+00,\n        -8.17495317e+04,  0.00000000e+00,  0.00000000e+00],\n       [ 0.00000000e+00,  0.00000000e+00, -3.17203667e+06,\n         0.00000000e+00,  1.28911570e+07,  0.00000000e+00,\n         0.00000000e+00,  0.00000000e+00,  3.17203667e+06,\n         0.00000000e+00,  6.44557851e+06,  0.00000000e+00],\n       [ 0.00000000e+00,  3.17203667e+06,  0.00000000e+00,\n         0.00000000e+00,  0.00000000e+00,  3.90558359e+07,\n         0.00000000e+00, -9.61019583e+06,  0.00000000e+00,\n         0.00000000e+00,  0.00000000e+00,  1.95279179e+07],\n       [-6.96383333e+08,  0.00000000e+00,  0.00000000e+00,\n         0.00000000e+00,  0.00000000e+00,  0.00000000e+00,\n         6.96383333e+08,  0.00000000e+00,  0.00000000e+00,\n         0.00000000e+00,  0.00000000e+00,  0.00000000e+00],\n       [ 0.00000000e+00, -3.15295139e+06,  0.00000000e+00,\n         0.00000000e+00,  0.00000000e+00, -9.61019583e+06,\n         0.00000000e+00,  3.15295139e+06,  0.00000000e+00,\n         0.00000000e+00,  0.00000000e+00, -9.61019583e+06],\n       [ 0.00000000e+00,  0.00000000e+00, -1.04069444e+06,\n         0.00000000e+00,  3.17203667e+06,  0.00000000e+00,\n         0.00000000e+00,  0.00000000e+00,  1.04069444e+06,\n         0.00000000e+00,  3.17203667e+06,  0.00000000e+00],\n       [ 0.00000000e+00,  0.00000000e+00,  0.00000000e+00,\n         8.17495317e+04,  0.00000000e+00,  0.00000000e+00,\n         0.00000000e+00,  0.00000000e+00,  0.00000000e+00,\n         8.17495317e+04,  0.00000000e+00,  0.00000000e+00],\n       [ 0.00000000e+00,  0.00000000e+00, -3.17203667e+06,\n         0.00000000e+00,  6.44557851e+06,  0.00000000e+00,\n         0.00000000e+00,  0.00000000e+00,  3.17203667e+06,\n         0.00000000e+00,  1.28911570e+07,  0.00000000e+00],\n       [ 0.00000000e+00,  1.57647569e+06,  0.00000000e+00,\n         0.00000000e+00,  0.00000000e+00,  1.95279179e+07,\n         0.00000000e+00, -9.61019583e+06,  0.00000000e+00,\n         0.00000000e+00,  0.00000000e+00,  3.90558359e+07]])"
     },
     "execution_count": 32,
     "metadata": {},
     "output_type": "execute_result"
    }
   ],
   "source": [
    "b1.rigidez_local"
   ],
   "metadata": {
    "collapsed": false,
    "pycharm": {
     "name": "#%%\n"
    }
   }
  },
  {
   "cell_type": "code",
   "execution_count": null,
   "outputs": [],
   "source": [],
   "metadata": {
    "collapsed": false,
    "pycharm": {
     "name": "#%%\n"
    }
   }
  }
 ],
 "metadata": {
  "kernelspec": {
   "display_name": "Python 3",
   "language": "python",
   "name": "python3"
  },
  "language_info": {
   "codemirror_mode": {
    "name": "ipython",
    "version": 2
   },
   "file_extension": ".py",
   "mimetype": "text/x-python",
   "name": "python",
   "nbconvert_exporter": "python",
   "pygments_lexer": "ipython2",
   "version": "2.7.6"
  }
 },
 "nbformat": 4,
 "nbformat_minor": 0
}